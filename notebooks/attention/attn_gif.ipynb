{
 "cells": [
  {
   "cell_type": "code",
   "execution_count": 1,
   "metadata": {},
   "outputs": [
    {
     "name": "stderr",
     "output_type": "stream",
     "text": [
      "c:\\Users\\mivan\\AppData\\Local\\pypoetry\\Cache\\virtualenvs\\understanding-search-experiments-1eWz7Qts-py3.11\\Lib\\site-packages\\_distutils_hack\\__init__.py:33: UserWarning: Setuptools is replacing distutils.\n",
      "  warnings.warn(\"Setuptools is replacing distutils.\")\n"
     ]
    }
   ],
   "source": [
    "# Generic\n",
    "import typing\n",
    "\n",
    "# Numerical Computing\n",
    "import numpy as np\n",
    "import torch\n",
    "from jaxtyping import Float, Int, Bool\n",
    "\n",
    "from muutils.nbutils.configure_notebook import configure_notebook, plotshow\n",
    "# TransformerLens imports\n",
    "from transformer_lens import ActivationCache, HookedTransformer\n",
    "\n",
    "# Our Code\n",
    "# dataset stuff\n",
    "from maze_dataset import MazeDataset, MazeDatasetConfig, SolvedMaze, LatticeMaze, SPECIAL_TOKENS, LatticeMazeGenerators\n",
    "from maze_dataset.tokenization import MazeTokenizer, TokenizationMode\n",
    "from maze_dataset.plotting.print_tokens import color_maze_tokens_AOTP\n",
    "\n",
    "# model stuff\n",
    "from maze_transformer.training.config import ConfigHolder, ZanjHookedTransformer, BaseGPTConfig\n",
    "\n",
    "# mechinterp stuff\n",
    "from maze_transformer.mechinterp.plot_attention import plot_attention_anim\n",
    "from maze_transformer.evaluation.load_model_testdata import load_model_with_test_data\n",
    "\n"
   ]
  },
  {
   "cell_type": "code",
   "execution_count": 2,
   "metadata": {},
   "outputs": [
    {
     "name": "stdout",
     "output_type": "stream",
     "text": [
      "Figures will be saved to: 'figures'\n",
      "set up plots with PLOT_MODE = 'save', FIG_OUTPUT_FMT = 'pdf', FIG_BASEPATH = 'figures'\n",
      "DEVICE = device(type='cuda')\n"
     ]
    },
    {
     "data": {
      "text/plain": [
       "<torch.autograd.grad_mode.set_grad_enabled at 0x20e4a35a1d0>"
      ]
     },
     "execution_count": 2,
     "metadata": {},
     "output_type": "execute_result"
    }
   ],
   "source": [
    "# Setup (we won't be training any models)\n",
    "DEVICE: torch.device = configure_notebook(seed=43, dark_mode=False, plot_mode=\"save\", fig_output_fmt=\"pdf\", fig_basepath=\"figures\")\n",
    "print(f\"{DEVICE = }\")\n",
    "torch.set_grad_enabled(False)\n"
   ]
  },
  {
   "cell_type": "code",
   "execution_count": 3,
   "metadata": {},
   "outputs": [
    {
     "name": "stderr",
     "output_type": "stream",
     "text": [
      "F:\\KNC\\maze-dataset\\maze_dataset\\dataset\\dataset.py:61: UserWarning:\n",
      "\n",
      "in GPTDatasetConfig self.name='hallway', self.seed=43 is trying to override GLOBAL_SEED=42 which has already been changed elsewhere from DEFAULT_SEED=42\n",
      "\n"
     ]
    },
    {
     "name": "stdout",
     "output_type": "stream",
     "text": [
      "loaded model with 1.2M params (num_params = 1238076) from:\n",
      "\tpath: ../models/model.hallway-jvq.final.zanj\n",
      "\toriginal model name: 'model.zanj_model_config.name = 'hallway_v3'', changing to 'hallway-jvq.final'\n",
      "\tmodel tensors on devices: {device(type='cuda', index=0)}\n",
      "loaded dataset with 200 examples\n",
      "dataset.cfg.summary() = {'name': 'hallway', 'fname': 'hallway-g7-n200-a_dfs-h12736', 'sdc_hash': 28873668702348942363820530582087178120863432918308260517317237820927875012736, 'seed': 43, 'seq_len_min': 1, 'seq_len_max': 512, 'applied_filters': [], 'grid_n': 7, 'grid_shape': (7, 7), 'n_mazes': 200, 'maze_ctor_name': 'gen_dfs', 'maze_ctor_kwargs': {'do_forks': False}}\n"
     ]
    }
   ],
   "source": [
    "MODEL: ZanjHookedTransformer; DATASET: MazeDataset\n",
    "MODEL, DATASET = load_model_with_test_data(\n",
    "\t# model_path=\"../examples/wandb.jerpkipj.zanj\",\n",
    "\t# model_path=\"../examples/model.hallway-insto.v17.zanj\",\n",
    "\tmodel_path=\"../models/model.hallway-jvq.final.zanj\",\n",
    "\tdataset_cfg_source=MazeDatasetConfig(\n",
    "\t\tname=\"hallway\",\n",
    "\t\tgrid_n=7,\n",
    "\t\tn_mazes=200,\n",
    "\t\tmaze_ctor=LatticeMazeGenerators.gen_dfs,\n",
    "\t\tmaze_ctor_kwargs=dict(do_forks=False),\n",
    "\t\tseed=43,\n",
    "\t),\n",
    "\tn_examples=200,\n",
    ")"
   ]
  },
  {
   "cell_type": "code",
   "execution_count": 4,
   "metadata": {},
   "outputs": [
    {
     "name": "stdout",
     "output_type": "stream",
     "text": [
      "loaded 200 mazes\n",
      "first maze:\n",
      "<ADJLIST_START> (2,0) <--> (1,0) ; (4,0) <--> (4,1) ; (5,2) <--> (4,2) ; (3,2) <--> (3,1) ; (0,0) <--> (0,1) ; (4,1) <--> (5,1) ; (1,2) <--> (1,3) ; (0,1) <--> (0,2) ; (3,3) <--> (3,2) ; (0,3) <--> (0,2) ; (5,3) <--> (4,3) ; (4,3) <--> (4,2) ; (5,4) <--> (4,4) ; (6,4) <--> (6,3) ; (3,0) <--> (3,1) ; (5,3) <--> (6,3) ; (6,1) <--> (6,2) ; (1,1) <--> (1,2) ; (6,4) <--> (5,4) ; (6,2) <--> (5,2) ; (2,0) <--> (3,0) ; (3,4) <--> (4,4) ; (0,3) <--> (1,3) ; (3,4) <--> (3,3) ; (5,1) <--> (6,1) ; (1,0) <--> (1,1) ; <ADJLIST_END> <ORIGIN_START> (0,3) <ORIGIN_END> <TARGET_START> (3,3) <TARGET_END> <PATH_START> (0,3) (1,3) (1,2) (1,1) (1,0) (2,0) (3,0) (3,1) (3,2) (3,3) <PATH_END>\n",
      "first maze, colored:\n",
      "\u001b[30m\u001b[48;2;217;210;233m<ADJLIST_START> (2,0) <--> (1,0) ; (4,0) <--> (4,1) ; (5,2) <--> (4,2) ; (3,2) <--> (3,1) ; (0,0) <--> (0,1) ; (4,1) <--> (5,1) ; (1,2) <--> (1,3) ; (0,1) <--> (0,2) ; (3,3) <--> (3,2) ; (0,3) <--> (0,2) ; (5,3) <--> (4,3) ; (4,3) <--> (4,2) ; (5,4) <--> (4,4) ; (6,4) <--> (6,3) ; (3,0) <--> (3,1) ; (5,3) <--> (6,3) ; (6,1) <--> (6,2) ; (1,1) <--> (1,2) ; (6,4) <--> (5,4) ; (6,2) <--> (5,2) ; (2,0) <--> (3,0) ; (3,4) <--> (4,4) ; (0,3) <--> (1,3) ; (3,4) <--> (3,3) ; (5,1) <--> (6,1) ; (1,0) <--> (1,1) ; <ADJLIST_END>\u001b[0m \u001b[30m\u001b[48;2;217;234;211m<ORIGIN_START> (0,3) <ORIGIN_END>\u001b[0m \u001b[30m\u001b[48;2;234;209;220m<TARGET_START> (3,3) <TARGET_END>\u001b[0m \u001b[30m\u001b[48;2;207;226;243m<PATH_START> (0,3) (1,3) (1,2) (1,1) (1,0) (2,0) (3,0) (3,1) (3,2) (3,3) <PATH_END>\u001b[0m\n"
     ]
    }
   ],
   "source": [
    "TOKENIZER: MazeTokenizer = MODEL.zanj_model_config.maze_tokenizer\n",
    "DATASET_TOKENS: list[list[str]] = DATASET.as_tokens(TOKENIZER, join_tokens_individual_maze=False)\n",
    "\n",
    "# print some info\n",
    "print(f\"loaded {len(DATASET_TOKENS)} mazes\")\n",
    "print(f\"first maze:\\n{' '.join(DATASET_TOKENS[0])}\")\n",
    "print(f\"first maze, colored:\\n{color_maze_tokens_AOTP(DATASET_TOKENS[0], fmt='terminal')}\")"
   ]
  },
  {
   "cell_type": "code",
   "execution_count": 5,
   "metadata": {},
   "outputs": [],
   "source": [
    "LOGITS: Float[torch.Tensor, \"n_mazes seq_len d_vocab\"]\n",
    "CACHE: ActivationCache\n",
    "LOGITS, CACHE = MODEL.run_with_cache([' '.join(x) for x in DATASET_TOKENS])"
   ]
  },
  {
   "cell_type": "code",
   "execution_count": 6,
   "metadata": {},
   "outputs": [
    {
     "name": "stdout",
     "output_type": "stream",
     "text": [
      "LOGITS.shape = torch.Size([200, 217, 60])\n",
      "cache_shapes = {'hook_embed': torch.Size([200, 217, 128]), 'hook_pos_embed': torch.Size([200, 217, 128]), 'blocks.0.hook_resid_pre': torch.Size([200, 217, 128]), 'blocks.0.ln1.hook_scale': torch.Size([200, 217, 1]), 'blocks.0.ln1.hook_normalized': torch.Size([200, 217, 128]), 'blocks.0.attn.hook_q': torch.Size([200, 217, 4, 32]), 'blocks.0.attn.hook_k': torch.Size([200, 217, 4, 32]), 'blocks.0.attn.hook_v': torch.Size([200, 217, 4, 32]), 'blocks.0.attn.hook_attn_scores': torch.Size([200, 4, 217, 217]), 'blocks.0.attn.hook_pattern': torch.Size([200, 4, 217, 217]), 'blocks.0.attn.hook_z': torch.Size([200, 217, 4, 32]), 'blocks.0.hook_attn_out': torch.Size([200, 217, 128]), 'blocks.0.hook_resid_mid': torch.Size([200, 217, 128]), 'blocks.0.ln2.hook_scale': torch.Size([200, 217, 1]), 'blocks.0.ln2.hook_normalized': torch.Size([200, 217, 128]), 'blocks.0.mlp.hook_pre': torch.Size([200, 217, 512]), 'blocks.0.mlp.hook_post': torch.Size([200, 217, 512]), 'blocks.0.hook_mlp_out': torch.Size([200, 217, 128]), 'blocks.0.hook_resid_post': torch.Size([200, 217, 128]), 'blocks.1.hook_resid_pre': torch.Size([200, 217, 128]), 'blocks.1.ln1.hook_scale': torch.Size([200, 217, 1]), 'blocks.1.ln1.hook_normalized': torch.Size([200, 217, 128]), 'blocks.1.attn.hook_q': torch.Size([200, 217, 4, 32]), 'blocks.1.attn.hook_k': torch.Size([200, 217, 4, 32]), 'blocks.1.attn.hook_v': torch.Size([200, 217, 4, 32]), 'blocks.1.attn.hook_attn_scores': torch.Size([200, 4, 217, 217]), 'blocks.1.attn.hook_pattern': torch.Size([200, 4, 217, 217]), 'blocks.1.attn.hook_z': torch.Size([200, 217, 4, 32]), 'blocks.1.hook_attn_out': torch.Size([200, 217, 128]), 'blocks.1.hook_resid_mid': torch.Size([200, 217, 128]), 'blocks.1.ln2.hook_scale': torch.Size([200, 217, 1]), 'blocks.1.ln2.hook_normalized': torch.Size([200, 217, 128]), 'blocks.1.mlp.hook_pre': torch.Size([200, 217, 512]), 'blocks.1.mlp.hook_post': torch.Size([200, 217, 512]), 'blocks.1.hook_mlp_out': torch.Size([200, 217, 128]), 'blocks.1.hook_resid_post': torch.Size([200, 217, 128]), 'blocks.2.hook_resid_pre': torch.Size([200, 217, 128]), 'blocks.2.ln1.hook_scale': torch.Size([200, 217, 1]), 'blocks.2.ln1.hook_normalized': torch.Size([200, 217, 128]), 'blocks.2.attn.hook_q': torch.Size([200, 217, 4, 32]), 'blocks.2.attn.hook_k': torch.Size([200, 217, 4, 32]), 'blocks.2.attn.hook_v': torch.Size([200, 217, 4, 32]), 'blocks.2.attn.hook_attn_scores': torch.Size([200, 4, 217, 217]), 'blocks.2.attn.hook_pattern': torch.Size([200, 4, 217, 217]), 'blocks.2.attn.hook_z': torch.Size([200, 217, 4, 32]), 'blocks.2.hook_attn_out': torch.Size([200, 217, 128]), 'blocks.2.hook_resid_mid': torch.Size([200, 217, 128]), 'blocks.2.ln2.hook_scale': torch.Size([200, 217, 1]), 'blocks.2.ln2.hook_normalized': torch.Size([200, 217, 128]), 'blocks.2.mlp.hook_pre': torch.Size([200, 217, 512]), 'blocks.2.mlp.hook_post': torch.Size([200, 217, 512]), 'blocks.2.hook_mlp_out': torch.Size([200, 217, 128]), 'blocks.2.hook_resid_post': torch.Size([200, 217, 128]), 'blocks.3.hook_resid_pre': torch.Size([200, 217, 128]), 'blocks.3.ln1.hook_scale': torch.Size([200, 217, 1]), 'blocks.3.ln1.hook_normalized': torch.Size([200, 217, 128]), 'blocks.3.attn.hook_q': torch.Size([200, 217, 4, 32]), 'blocks.3.attn.hook_k': torch.Size([200, 217, 4, 32]), 'blocks.3.attn.hook_v': torch.Size([200, 217, 4, 32]), 'blocks.3.attn.hook_attn_scores': torch.Size([200, 4, 217, 217]), 'blocks.3.attn.hook_pattern': torch.Size([200, 4, 217, 217]), 'blocks.3.attn.hook_z': torch.Size([200, 217, 4, 32]), 'blocks.3.hook_attn_out': torch.Size([200, 217, 128]), 'blocks.3.hook_resid_mid': torch.Size([200, 217, 128]), 'blocks.3.ln2.hook_scale': torch.Size([200, 217, 1]), 'blocks.3.ln2.hook_normalized': torch.Size([200, 217, 128]), 'blocks.3.mlp.hook_pre': torch.Size([200, 217, 512]), 'blocks.3.mlp.hook_post': torch.Size([200, 217, 512]), 'blocks.3.hook_mlp_out': torch.Size([200, 217, 128]), 'blocks.3.hook_resid_post': torch.Size([200, 217, 128]), 'blocks.4.hook_resid_pre': torch.Size([200, 217, 128]), 'blocks.4.ln1.hook_scale': torch.Size([200, 217, 1]), 'blocks.4.ln1.hook_normalized': torch.Size([200, 217, 128]), 'blocks.4.attn.hook_q': torch.Size([200, 217, 4, 32]), 'blocks.4.attn.hook_k': torch.Size([200, 217, 4, 32]), 'blocks.4.attn.hook_v': torch.Size([200, 217, 4, 32]), 'blocks.4.attn.hook_attn_scores': torch.Size([200, 4, 217, 217]), 'blocks.4.attn.hook_pattern': torch.Size([200, 4, 217, 217]), 'blocks.4.attn.hook_z': torch.Size([200, 217, 4, 32]), 'blocks.4.hook_attn_out': torch.Size([200, 217, 128]), 'blocks.4.hook_resid_mid': torch.Size([200, 217, 128]), 'blocks.4.ln2.hook_scale': torch.Size([200, 217, 1]), 'blocks.4.ln2.hook_normalized': torch.Size([200, 217, 128]), 'blocks.4.mlp.hook_pre': torch.Size([200, 217, 512]), 'blocks.4.mlp.hook_post': torch.Size([200, 217, 512]), 'blocks.4.hook_mlp_out': torch.Size([200, 217, 128]), 'blocks.4.hook_resid_post': torch.Size([200, 217, 128]), 'blocks.5.hook_resid_pre': torch.Size([200, 217, 128]), 'blocks.5.ln1.hook_scale': torch.Size([200, 217, 1]), 'blocks.5.ln1.hook_normalized': torch.Size([200, 217, 128]), 'blocks.5.attn.hook_q': torch.Size([200, 217, 4, 32]), 'blocks.5.attn.hook_k': torch.Size([200, 217, 4, 32]), 'blocks.5.attn.hook_v': torch.Size([200, 217, 4, 32]), 'blocks.5.attn.hook_attn_scores': torch.Size([200, 4, 217, 217]), 'blocks.5.attn.hook_pattern': torch.Size([200, 4, 217, 217]), 'blocks.5.attn.hook_z': torch.Size([200, 217, 4, 32]), 'blocks.5.hook_attn_out': torch.Size([200, 217, 128]), 'blocks.5.hook_resid_mid': torch.Size([200, 217, 128]), 'blocks.5.ln2.hook_scale': torch.Size([200, 217, 1]), 'blocks.5.ln2.hook_normalized': torch.Size([200, 217, 128]), 'blocks.5.mlp.hook_pre': torch.Size([200, 217, 512]), 'blocks.5.mlp.hook_post': torch.Size([200, 217, 512]), 'blocks.5.hook_mlp_out': torch.Size([200, 217, 128]), 'blocks.5.hook_resid_post': torch.Size([200, 217, 128]), 'ln_final.hook_scale': torch.Size([200, 217, 1]), 'ln_final.hook_normalized': torch.Size([200, 217, 128])}\n"
     ]
    }
   ],
   "source": [
    "print(f\"{LOGITS.shape = }\")\n",
    "cache_shapes: dict[str, tuple[int, ...]] = {k: v.shape for k, v in CACHE.items()}\n",
    "print(f\"{cache_shapes = }\")"
   ]
  },
  {
   "cell_type": "code",
   "execution_count": 32,
   "metadata": {},
   "outputs": [
    {
     "data": {
      "image/png": "[encoded data removed]",
      "text/plain": [
       "<Figure size 500x500 with 2 Axes>"
      ]
     },
     "metadata": {},
     "output_type": "display_data"
    }
   ],
   "source": [
    "assert MODEL.config.tokenizer.padding_side == \"left\"\n",
    "assert MODEL.config.tokenizer.truncation_side == \"left\"\n",
    "\n",
    "n_mazes_to_animate: int = 1\n",
    "\n",
    "for i in range(n_mazes_to_animate):\n",
    "\tplot_attention_anim(\n",
    "\t\tcache=CACHE,\n",
    "\t\tmaze_id=i,\n",
    "\t\tmazes=DATASET.mazes,\n",
    "\t\tmazes_tokens=DATASET_TOKENS,\n",
    "\t\tend_offset=-2,\n",
    "\t\thead_id=(5, 3),\n",
    "\t\tfps=1.5,\n",
    "\t\tfigsize=(5, 5),\n",
    "\t)"
   ]
  }
 ],
 "metadata": {
  "kernelspec": {
   "display_name": "understanding-search-experiments-1eWz7Qts-py3.11",
   "language": "python",
   "name": "python3"
  },
  "language_info": {
   "codemirror_mode": {
    "name": "ipython",
    "version": 3
   },
   "file_extension": ".py",
   "mimetype": "text/x-python",
   "name": "python",
   "nbconvert_exporter": "python",
   "pygments_lexer": "ipython3",
   "version": "3.11.4"
  },
  "orig_nbformat": 4
 },
 "nbformat": 4,
 "nbformat_minor": 2
}
